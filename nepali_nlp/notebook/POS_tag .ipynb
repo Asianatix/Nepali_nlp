{
  "nbformat": 4,
  "nbformat_minor": 0,
  "metadata": {
    "kernelspec": {
      "name": "python3",
      "display_name": "Python 3"
    },
    "language_info": {
      "codemirror_mode": {
        "name": "ipython",
        "version": 3
      },
      "file_extension": ".py",
      "mimetype": "text/x-python",
      "name": "python",
      "nbconvert_exporter": "python",
      "pygments_lexer": "ipython3",
      "version": "3.6.5"
    },
    "colab": {
      "name": "POS_tag.ipynb",
      "provenance": [],
      "collapsed_sections": [],
      "toc_visible": true
    },
    "accelerator": "GPU"
  },
  "cells": [
    {
      "cell_type": "markdown",
      "metadata": {
        "id": "bGoPvwnT3DBD",
        "colab_type": "text"
      },
      "source": [
        "## Import libraries"
      ]
    },
    {
      "cell_type": "code",
      "metadata": {
        "id": "ohPstj0W3DBG",
        "colab_type": "code",
        "colab": {}
      },
      "source": [
        "import torch\n",
        "import pickle\n",
        "import unicodedata\n",
        "import torch.nn as nn\n",
        "import torch.nn.functional as F\n",
        "from torch import optim"
      ],
      "execution_count": 0,
      "outputs": []
    },
    {
      "cell_type": "markdown",
      "metadata": {
        "id": "rDHcf5fT5FGT",
        "colab_type": "text"
      },
      "source": [
        "## Mount Driver"
      ]
    },
    {
      "cell_type": "code",
      "metadata": {
        "id": "a1LHBIRBUJ-h",
        "colab_type": "code",
        "outputId": "d2566a82-2fc0-483a-c44e-dea778d57519",
        "colab": {
          "base_uri": "https://localhost:8080/",
          "height": 34
        }
      },
      "source": [
        "from google.colab import drive\n",
        "drive.mount('/content/drive')"
      ],
      "execution_count": 2,
      "outputs": [
        {
          "output_type": "stream",
          "text": [
            "Drive already mounted at /content/drive; to attempt to forcibly remount, call drive.mount(\"/content/drive\", force_remount=True).\n"
          ],
          "name": "stdout"
        }
      ]
    },
    {
      "cell_type": "code",
      "metadata": {
        "id": "q2UHjjuZ5Kx3",
        "colab_type": "code",
        "outputId": "8c8a65f3-8cff-4f66-d570-74a277e32a0b",
        "colab": {
          "base_uri": "https://localhost:8080/",
          "height": 34
        }
      },
      "source": [
        "cd drive/My\\ Drive"
      ],
      "execution_count": 3,
      "outputs": [
        {
          "output_type": "stream",
          "text": [
            "/content/drive/My Drive\n"
          ],
          "name": "stdout"
        }
      ]
    },
    {
      "cell_type": "code",
      "metadata": {
        "id": "5oKulQoY5ge0",
        "colab_type": "code",
        "outputId": "c52ff790-a424-4491-e8de-1c5dab27fdf4",
        "colab": {
          "base_uri": "https://localhost:8080/",
          "height": 476
        }
      },
      "source": [
        "!ls"
      ],
      "execution_count": 4,
      "outputs": [
        {
          "output_type": "stream",
          "text": [
            "'10 gettogether'\n",
            " 16719\n",
            "'7. content based recommendation_system.ipynb'\n",
            "'About leapfrog.gdoc'\n",
            " bq-results-20190425-142055-kzmrasjrjqny\n",
            " cern.gdoc\n",
            " cern.jpg\n",
            " cmeriwork\n",
            "'Colab Notebooks'\n",
            " Cover_letter_Anish_Pandey.pdf\n",
            " dataset\n",
            " Digital_Image_Processing_2ndEd.pdf\n",
            " Documents\n",
            " Hell\n",
            "'HR profiling'\n",
            " import_docx\n",
            " in.gov.uidai-ADHAR-895156698533.pdf\n",
            " Journal_reccomendation\n",
            " Kawita.gdoc\n",
            "'list for user_classification'\n",
            " Nepali_News_Classification.csv\n",
            "'Resume_Anish (1).pdf'\n",
            " Resume_Anish.pdf\n",
            "'Resume_Coverletter_Anish_Pandey - Anish Pandey.pdf'\n",
            " Resume_Coverletter_Anish_Pandey.pdf\n",
            " Statement_Excel_2019-08-03.xls\n",
            "'top 10 list.gdoc'\n"
          ],
          "name": "stdout"
        }
      ]
    },
    {
      "cell_type": "markdown",
      "metadata": {
        "id": "5AyV6SR73DBO",
        "colab_type": "text"
      },
      "source": [
        "## import dataset"
      ]
    },
    {
      "cell_type": "code",
      "metadata": {
        "id": "o8sG3cun3DBW",
        "colab_type": "code",
        "colab": {}
      },
      "source": [
        "dbfile = open('dataset/processed_tag', 'rb')"
      ],
      "execution_count": 0,
      "outputs": []
    },
    {
      "cell_type": "code",
      "metadata": {
        "id": "vEDc2xnP3DBc",
        "colab_type": "code",
        "colab": {}
      },
      "source": [
        "data_df = pickle.load(dbfile)"
      ],
      "execution_count": 0,
      "outputs": []
    },
    {
      "cell_type": "code",
      "metadata": {
        "id": "tgQID_vW3DBi",
        "colab_type": "code",
        "outputId": "3545e583-62cf-4b48-cb18-c4beb1d4a00d",
        "colab": {
          "base_uri": "https://localhost:8080/",
          "height": 204
        }
      },
      "source": [
        "data_df.head()"
      ],
      "execution_count": 7,
      "outputs": [
        {
          "output_type": "execute_result",
          "data": {
            "text/html": [
              "<div>\n",
              "<style scoped>\n",
              "    .dataframe tbody tr th:only-of-type {\n",
              "        vertical-align: middle;\n",
              "    }\n",
              "\n",
              "    .dataframe tbody tr th {\n",
              "        vertical-align: top;\n",
              "    }\n",
              "\n",
              "    .dataframe thead th {\n",
              "        text-align: right;\n",
              "    }\n",
              "</style>\n",
              "<table border=\"1\" class=\"dataframe\">\n",
              "  <thead>\n",
              "    <tr style=\"text-align: right;\">\n",
              "      <th></th>\n",
              "      <th>text</th>\n",
              "      <th>tag</th>\n",
              "    </tr>\n",
              "  </thead>\n",
              "  <tbody>\n",
              "    <tr>\n",
              "      <th>0</th>\n",
              "      <td>[६१,  वर्षीय,  पियरे,  भिन्केन,  नोभेम्बर,  २९...</td>\n",
              "      <td>[&lt;CD&gt;, &lt;JJ&gt;, &lt;NNP&gt;, &lt;NNP&gt;, &lt;NNP&gt;, &lt;CD&gt;, &lt;POP&gt;,...</td>\n",
              "    </tr>\n",
              "    <tr>\n",
              "      <th>1</th>\n",
              "      <td>[श्री,  भिन्केन,  डच,  प्रकाशन,  समूह,  एल्सेभ...</td>\n",
              "      <td>[&lt;NN&gt;, &lt;NNP&gt;, &lt;NNP&gt;, &lt;NN&gt;, &lt;NN&gt;, &lt;NNP&gt;, &lt;FB&gt;, ...</td>\n",
              "    </tr>\n",
              "    <tr>\n",
              "      <th>2</th>\n",
              "      <td>[कन्सोलिडेटिड,  गोल्ड,  फिल्ड्स,  पीएलसी, का, ...</td>\n",
              "      <td>[&lt;NNP&gt;, &lt;NN&gt;, &lt;NN&gt;, &lt;NNP&gt;, &lt;PKO&gt;, &lt;JJ&gt;, &lt;NN&gt;, ...</td>\n",
              "    </tr>\n",
              "    <tr>\n",
              "      <th>3</th>\n",
              "      <td>[एकताका,  केन्ट,  चुरोट, को,  फिल्टर,  बनाउन, ...</td>\n",
              "      <td>[&lt;RBO&gt;, &lt;NNP&gt;, &lt;NN&gt;, &lt;PKO&gt;, &lt;NN&gt;, &lt;VBI&gt;, &lt;NN&gt;,...</td>\n",
              "    </tr>\n",
              "    <tr>\n",
              "      <th>4</th>\n",
              "      <td>[यस, सँग, को,  छोटो,  सम्पर्क, बाट,  मात्र,  प...</td>\n",
              "      <td>[&lt;DUM&gt;, &lt;POP&gt;, &lt;PKO&gt;, &lt;JJM&gt;, &lt;NN&gt;, &lt;POP&gt;, &lt;RP&gt;...</td>\n",
              "    </tr>\n",
              "  </tbody>\n",
              "</table>\n",
              "</div>"
            ],
            "text/plain": [
              "                                                text                                                tag\n",
              "0  [६१,  वर्षीय,  पियरे,  भिन्केन,  नोभेम्बर,  २९...  [<CD>, <JJ>, <NNP>, <NNP>, <NNP>, <CD>, <POP>,...\n",
              "1  [श्री,  भिन्केन,  डच,  प्रकाशन,  समूह,  एल्सेभ...  [<NN>, <NNP>, <NNP>, <NN>, <NN>, <NNP>, <FB>, ...\n",
              "2  [कन्सोलिडेटिड,  गोल्ड,  फिल्ड्स,  पीएलसी, का, ...  [<NNP>, <NN>, <NN>, <NNP>, <PKO>, <JJ>, <NN>, ...\n",
              "3  [एकताका,  केन्ट,  चुरोट, को,  फिल्टर,  बनाउन, ...  [<RBO>, <NNP>, <NN>, <PKO>, <NN>, <VBI>, <NN>,...\n",
              "4  [यस, सँग, को,  छोटो,  सम्पर्क, बाट,  मात्र,  प...  [<DUM>, <POP>, <PKO>, <JJM>, <NN>, <POP>, <RP>..."
            ]
          },
          "metadata": {
            "tags": []
          },
          "execution_count": 7
        }
      ]
    },
    {
      "cell_type": "code",
      "metadata": {
        "id": "3LHS0bNB3DBr",
        "colab_type": "code",
        "colab": {}
      },
      "source": [
        "data_df['len_txt'] =data_df['text'].map(len)"
      ],
      "execution_count": 0,
      "outputs": []
    },
    {
      "cell_type": "code",
      "metadata": {
        "id": "6K5AAIWi3DBv",
        "colab_type": "code",
        "colab": {}
      },
      "source": [
        "data_df['len_tag'] =data_df['tag'].map(len)"
      ],
      "execution_count": 0,
      "outputs": []
    },
    {
      "cell_type": "code",
      "metadata": {
        "id": "SbgWpl1M3DB0",
        "colab_type": "code",
        "outputId": "bf598d31-adaf-4ade-e1c2-da85f665c8c9",
        "colab": {
          "base_uri": "https://localhost:8080/",
          "height": 49
        }
      },
      "source": [
        "data_df[data_df['len_txt']!=data_df['len_tag']]"
      ],
      "execution_count": 10,
      "outputs": [
        {
          "output_type": "execute_result",
          "data": {
            "text/html": [
              "<div>\n",
              "<style scoped>\n",
              "    .dataframe tbody tr th:only-of-type {\n",
              "        vertical-align: middle;\n",
              "    }\n",
              "\n",
              "    .dataframe tbody tr th {\n",
              "        vertical-align: top;\n",
              "    }\n",
              "\n",
              "    .dataframe thead th {\n",
              "        text-align: right;\n",
              "    }\n",
              "</style>\n",
              "<table border=\"1\" class=\"dataframe\">\n",
              "  <thead>\n",
              "    <tr style=\"text-align: right;\">\n",
              "      <th></th>\n",
              "      <th>text</th>\n",
              "      <th>tag</th>\n",
              "      <th>len_txt</th>\n",
              "      <th>len_tag</th>\n",
              "    </tr>\n",
              "  </thead>\n",
              "  <tbody>\n",
              "  </tbody>\n",
              "</table>\n",
              "</div>"
            ],
            "text/plain": [
              "Empty DataFrame\n",
              "Columns: [text, tag, len_txt, len_tag]\n",
              "Index: []"
            ]
          },
          "metadata": {
            "tags": []
          },
          "execution_count": 10
        }
      ]
    },
    {
      "cell_type": "markdown",
      "metadata": {
        "id": "v7L8DOYZ3DB7",
        "colab_type": "text"
      },
      "source": [
        "## hence from the operation, we figure out that there is not mismatch between tags and text tokens "
      ]
    },
    {
      "cell_type": "markdown",
      "metadata": {
        "id": "5qySGoox3DB8",
        "colab_type": "text"
      },
      "source": [
        "## Dataset Preparation"
      ]
    },
    {
      "cell_type": "code",
      "metadata": {
        "id": "i8eibe-IDnVf",
        "colab_type": "code",
        "colab": {}
      },
      "source": [
        "data_df = data_df[data_df['len_txt']<100]"
      ],
      "execution_count": 0,
      "outputs": []
    },
    {
      "cell_type": "code",
      "metadata": {
        "id": "r_6pM6J73DB-",
        "colab_type": "code",
        "outputId": "b5a8faeb-adf1-48c0-e6d5-3cd4296ac2c3",
        "colab": {
          "base_uri": "https://localhost:8080/",
          "height": 204
        }
      },
      "source": [
        "data_df.head()"
      ],
      "execution_count": 12,
      "outputs": [
        {
          "output_type": "execute_result",
          "data": {
            "text/html": [
              "<div>\n",
              "<style scoped>\n",
              "    .dataframe tbody tr th:only-of-type {\n",
              "        vertical-align: middle;\n",
              "    }\n",
              "\n",
              "    .dataframe tbody tr th {\n",
              "        vertical-align: top;\n",
              "    }\n",
              "\n",
              "    .dataframe thead th {\n",
              "        text-align: right;\n",
              "    }\n",
              "</style>\n",
              "<table border=\"1\" class=\"dataframe\">\n",
              "  <thead>\n",
              "    <tr style=\"text-align: right;\">\n",
              "      <th></th>\n",
              "      <th>text</th>\n",
              "      <th>tag</th>\n",
              "      <th>len_txt</th>\n",
              "      <th>len_tag</th>\n",
              "    </tr>\n",
              "  </thead>\n",
              "  <tbody>\n",
              "    <tr>\n",
              "      <th>0</th>\n",
              "      <td>[६१,  वर्षीय,  पियरे,  भिन्केन,  नोभेम्बर,  २९...</td>\n",
              "      <td>[&lt;CD&gt;, &lt;JJ&gt;, &lt;NNP&gt;, &lt;NNP&gt;, &lt;NNP&gt;, &lt;CD&gt;, &lt;POP&gt;,...</td>\n",
              "      <td>16</td>\n",
              "      <td>16</td>\n",
              "    </tr>\n",
              "    <tr>\n",
              "      <th>1</th>\n",
              "      <td>[श्री,  भिन्केन,  डच,  प्रकाशन,  समूह,  एल्सेभ...</td>\n",
              "      <td>[&lt;NN&gt;, &lt;NNP&gt;, &lt;NNP&gt;, &lt;NN&gt;, &lt;NN&gt;, &lt;NNP&gt;, &lt;FB&gt;, ...</td>\n",
              "      <td>11</td>\n",
              "      <td>11</td>\n",
              "    </tr>\n",
              "    <tr>\n",
              "      <th>2</th>\n",
              "      <td>[कन्सोलिडेटिड,  गोल्ड,  फिल्ड्स,  पीएलसी, का, ...</td>\n",
              "      <td>[&lt;NNP&gt;, &lt;NN&gt;, &lt;NN&gt;, &lt;NNP&gt;, &lt;PKO&gt;, &lt;JJ&gt;, &lt;NN&gt;, ...</td>\n",
              "      <td>25</td>\n",
              "      <td>25</td>\n",
              "    </tr>\n",
              "    <tr>\n",
              "      <th>3</th>\n",
              "      <td>[एकताका,  केन्ट,  चुरोट, को,  फिल्टर,  बनाउन, ...</td>\n",
              "      <td>[&lt;RBO&gt;, &lt;NNP&gt;, &lt;NN&gt;, &lt;PKO&gt;, &lt;NN&gt;, &lt;VBI&gt;, &lt;NN&gt;,...</td>\n",
              "      <td>43</td>\n",
              "      <td>43</td>\n",
              "    </tr>\n",
              "    <tr>\n",
              "      <th>4</th>\n",
              "      <td>[यस, सँग, को,  छोटो,  सम्पर्क, बाट,  मात्र,  प...</td>\n",
              "      <td>[&lt;DUM&gt;, &lt;POP&gt;, &lt;PKO&gt;, &lt;JJM&gt;, &lt;NN&gt;, &lt;POP&gt;, &lt;RP&gt;...</td>\n",
              "      <td>38</td>\n",
              "      <td>38</td>\n",
              "    </tr>\n",
              "  </tbody>\n",
              "</table>\n",
              "</div>"
            ],
            "text/plain": [
              "                                                text  ... len_tag\n",
              "0  [६१,  वर्षीय,  पियरे,  भिन्केन,  नोभेम्बर,  २९...  ...      16\n",
              "1  [श्री,  भिन्केन,  डच,  प्रकाशन,  समूह,  एल्सेभ...  ...      11\n",
              "2  [कन्सोलिडेटिड,  गोल्ड,  फिल्ड्स,  पीएलसी, का, ...  ...      25\n",
              "3  [एकताका,  केन्ट,  चुरोट, को,  फिल्टर,  बनाउन, ...  ...      43\n",
              "4  [यस, सँग, को,  छोटो,  सम्पर्क, बाट,  मात्र,  प...  ...      38\n",
              "\n",
              "[5 rows x 4 columns]"
            ]
          },
          "metadata": {
            "tags": []
          },
          "execution_count": 12
        }
      ]
    },
    {
      "cell_type": "code",
      "metadata": {
        "id": "lu4QFS9npViX",
        "colab_type": "code",
        "colab": {}
      },
      "source": [
        "MAX_LEN = max(data_df['len_txt'])"
      ],
      "execution_count": 0,
      "outputs": []
    },
    {
      "cell_type": "code",
      "metadata": {
        "id": "CVmuMb6HHszv",
        "colab_type": "code",
        "outputId": "f9ed01a8-5839-48ba-f7b0-395847b5028d",
        "colab": {
          "base_uri": "https://localhost:8080/",
          "height": 80
        }
      },
      "source": [
        "data_df[data_df['len_txt']==MAX_LEN]"
      ],
      "execution_count": 14,
      "outputs": [
        {
          "output_type": "execute_result",
          "data": {
            "text/html": [
              "<div>\n",
              "<style scoped>\n",
              "    .dataframe tbody tr th:only-of-type {\n",
              "        vertical-align: middle;\n",
              "    }\n",
              "\n",
              "    .dataframe tbody tr th {\n",
              "        vertical-align: top;\n",
              "    }\n",
              "\n",
              "    .dataframe thead th {\n",
              "        text-align: right;\n",
              "    }\n",
              "</style>\n",
              "<table border=\"1\" class=\"dataframe\">\n",
              "  <thead>\n",
              "    <tr style=\"text-align: right;\">\n",
              "      <th></th>\n",
              "      <th>text</th>\n",
              "      <th>tag</th>\n",
              "      <th>len_txt</th>\n",
              "      <th>len_tag</th>\n",
              "    </tr>\n",
              "  </thead>\n",
              "  <tbody>\n",
              "    <tr>\n",
              "      <th>1845</th>\n",
              "      <td>[लङवुड,  ,,  फ्लोरिडा, का,  भिक्टर,  स्टान्, ल...</td>\n",
              "      <td>[&lt;NNP&gt;, &lt;YM&gt;, &lt;NNP&gt;, &lt;PKO&gt;, &lt;NNP&gt;, &lt;NNP&gt;, &lt;PLE...</td>\n",
              "      <td>91</td>\n",
              "      <td>91</td>\n",
              "    </tr>\n",
              "  </tbody>\n",
              "</table>\n",
              "</div>"
            ],
            "text/plain": [
              "                                                   text  ... len_tag\n",
              "1845  [लङवुड,  ,,  फ्लोरिडा, का,  भिक्टर,  स्टान्, ल...  ...      91\n",
              "\n",
              "[1 rows x 4 columns]"
            ]
          },
          "metadata": {
            "tags": []
          },
          "execution_count": 14
        }
      ]
    },
    {
      "cell_type": "code",
      "metadata": {
        "id": "6E9rWlIT3DCF",
        "colab_type": "code",
        "colab": {}
      },
      "source": [
        "data_df['text'] = data_df['text'].apply(lambda x : [\"\".join(item.split(\" \")) for item in x])"
      ],
      "execution_count": 0,
      "outputs": []
    },
    {
      "cell_type": "markdown",
      "metadata": {
        "id": "5SL8LMpw3DCJ",
        "colab_type": "text"
      },
      "source": [
        "## Converting Unicode value into ASCII"
      ]
    },
    {
      "cell_type": "code",
      "metadata": {
        "id": "Vl0tI_Fa3DCL",
        "colab_type": "code",
        "colab": {}
      },
      "source": [
        "def unicode_to_ascii(s):\n",
        "    return ''.join(\n",
        "        c for c in unicodedata.normalize('NFD', s)\n",
        "        if unicodedata.category(c) != 'Mn')"
      ],
      "execution_count": 0,
      "outputs": []
    },
    {
      "cell_type": "code",
      "metadata": {
        "id": "DQFmRSud3DCQ",
        "colab_type": "code",
        "colab": {}
      },
      "source": [
        "data_df['ascii_text'] = data_df['text'].apply(lambda x : [unicode_to_ascii(item) for item in x])"
      ],
      "execution_count": 0,
      "outputs": []
    },
    {
      "cell_type": "code",
      "metadata": {
        "id": "ZQ9wUzej3DCV",
        "colab_type": "code",
        "colab": {}
      },
      "source": [
        "data_df.drop(columns=['text','len_txt','len_tag'],inplace=True)"
      ],
      "execution_count": 0,
      "outputs": []
    },
    {
      "cell_type": "code",
      "metadata": {
        "id": "wnAWd8a-3DCc",
        "colab_type": "code",
        "colab": {}
      },
      "source": [
        "data_df = data_df[['ascii_text','tag']]"
      ],
      "execution_count": 0,
      "outputs": []
    },
    {
      "cell_type": "code",
      "metadata": {
        "id": "kgYlg7Sl3DCh",
        "colab_type": "code",
        "outputId": "74fe58c4-8eef-4578-8177-f4ed87f26820",
        "colab": {
          "base_uri": "https://localhost:8080/",
          "height": 204
        }
      },
      "source": [
        "data_df.head()"
      ],
      "execution_count": 20,
      "outputs": [
        {
          "output_type": "execute_result",
          "data": {
            "text/html": [
              "<div>\n",
              "<style scoped>\n",
              "    .dataframe tbody tr th:only-of-type {\n",
              "        vertical-align: middle;\n",
              "    }\n",
              "\n",
              "    .dataframe tbody tr th {\n",
              "        vertical-align: top;\n",
              "    }\n",
              "\n",
              "    .dataframe thead th {\n",
              "        text-align: right;\n",
              "    }\n",
              "</style>\n",
              "<table border=\"1\" class=\"dataframe\">\n",
              "  <thead>\n",
              "    <tr style=\"text-align: right;\">\n",
              "      <th></th>\n",
              "      <th>ascii_text</th>\n",
              "      <th>tag</th>\n",
              "    </tr>\n",
              "  </thead>\n",
              "  <tbody>\n",
              "    <tr>\n",
              "      <th>0</th>\n",
              "      <td>[६१, वरषीय, पियर, भिनकन, नोभमबर, २९, बाट, सलला...</td>\n",
              "      <td>[&lt;CD&gt;, &lt;JJ&gt;, &lt;NNP&gt;, &lt;NNP&gt;, &lt;NNP&gt;, &lt;CD&gt;, &lt;POP&gt;,...</td>\n",
              "    </tr>\n",
              "    <tr>\n",
              "      <th>1</th>\n",
              "      <td>[शरी, भिनकन, डच, परकाशन, समह, एलसभियर, एन.भी.,...</td>\n",
              "      <td>[&lt;NN&gt;, &lt;NNP&gt;, &lt;NNP&gt;, &lt;NN&gt;, &lt;NN&gt;, &lt;NNP&gt;, &lt;FB&gt;, ...</td>\n",
              "    </tr>\n",
              "    <tr>\n",
              "      <th>2</th>\n",
              "      <td>[कनसोलिडटिड, गोलड, फिलडस, पीएलसी, का, परव, सभा...</td>\n",
              "      <td>[&lt;NNP&gt;, &lt;NN&gt;, &lt;NN&gt;, &lt;NNP&gt;, &lt;PKO&gt;, &lt;JJ&gt;, &lt;NN&gt;, ...</td>\n",
              "    </tr>\n",
              "    <tr>\n",
              "      <th>3</th>\n",
              "      <td>[एकताका, कनट, चरोट, को, फिलटर, बनाउन, परयोग, भ...</td>\n",
              "      <td>[&lt;RBO&gt;, &lt;NNP&gt;, &lt;NN&gt;, &lt;PKO&gt;, &lt;NN&gt;, &lt;VBI&gt;, &lt;NN&gt;,...</td>\n",
              "    </tr>\n",
              "    <tr>\n",
              "      <th>4</th>\n",
              "      <td>[यस, सग, को, छोटो, समपरक, बाट, मातर, पनि, दशकौ...</td>\n",
              "      <td>[&lt;DUM&gt;, &lt;POP&gt;, &lt;PKO&gt;, &lt;JJM&gt;, &lt;NN&gt;, &lt;POP&gt;, &lt;RP&gt;...</td>\n",
              "    </tr>\n",
              "  </tbody>\n",
              "</table>\n",
              "</div>"
            ],
            "text/plain": [
              "                                          ascii_text                                                tag\n",
              "0  [६१, वरषीय, पियर, भिनकन, नोभमबर, २९, बाट, सलला...  [<CD>, <JJ>, <NNP>, <NNP>, <NNP>, <CD>, <POP>,...\n",
              "1  [शरी, भिनकन, डच, परकाशन, समह, एलसभियर, एन.भी.,...  [<NN>, <NNP>, <NNP>, <NN>, <NN>, <NNP>, <FB>, ...\n",
              "2  [कनसोलिडटिड, गोलड, फिलडस, पीएलसी, का, परव, सभा...  [<NNP>, <NN>, <NN>, <NNP>, <PKO>, <JJ>, <NN>, ...\n",
              "3  [एकताका, कनट, चरोट, को, फिलटर, बनाउन, परयोग, भ...  [<RBO>, <NNP>, <NN>, <PKO>, <NN>, <VBI>, <NN>,...\n",
              "4  [यस, सग, को, छोटो, समपरक, बाट, मातर, पनि, दशकौ...  [<DUM>, <POP>, <PKO>, <JJM>, <NN>, <POP>, <RP>..."
            ]
          },
          "metadata": {
            "tags": []
          },
          "execution_count": 20
        }
      ]
    },
    {
      "cell_type": "markdown",
      "metadata": {
        "id": "BGQ_hp7Q5WyK",
        "colab_type": "text"
      },
      "source": [
        "## Padding"
      ]
    },
    {
      "cell_type": "code",
      "metadata": {
        "id": "ZCHByNUHvfob",
        "colab_type": "code",
        "colab": {}
      },
      "source": [
        "def padding_sequence(sequence, max_length = MAX_LEN):\n",
        "  true_length = len(sequence)\n",
        "  temp_sequence = sequence\n",
        "  for idx in range(true_length,max_length):\n",
        "    temp_sequence.append('<PAD>')\n",
        "  return temp_sequence"
      ],
      "execution_count": 0,
      "outputs": []
    },
    {
      "cell_type": "code",
      "metadata": {
        "id": "1XrbORf57nwH",
        "colab_type": "code",
        "colab": {}
      },
      "source": [
        "data_df['ascii_text'] = data_df['ascii_text'].map(padding_sequence)"
      ],
      "execution_count": 0,
      "outputs": []
    },
    {
      "cell_type": "code",
      "metadata": {
        "id": "f0ZALlJK8XJ_",
        "colab_type": "code",
        "colab": {}
      },
      "source": [
        "data_df['tag'] = data_df['tag'].map(padding_sequence)"
      ],
      "execution_count": 0,
      "outputs": []
    },
    {
      "cell_type": "markdown",
      "metadata": {
        "id": "WOl8azY93DDT",
        "colab_type": "text"
      },
      "source": [
        "## word2vec and vec2word conversion"
      ]
    },
    {
      "cell_type": "code",
      "metadata": {
        "id": "MHQDoT7k3DDU",
        "colab_type": "code",
        "colab": {}
      },
      "source": [
        "word_dictionary = list(set(sum(data_df['ascii_text'].tolist(),[])))"
      ],
      "execution_count": 0,
      "outputs": []
    },
    {
      "cell_type": "code",
      "metadata": {
        "id": "7a_tHIcO3DDa",
        "colab_type": "code",
        "outputId": "6b8a5967-9e95-4993-e956-0df2f3989e8c",
        "colab": {
          "base_uri": "https://localhost:8080/",
          "height": 34
        }
      },
      "source": [
        "word_dictionary[:8]"
      ],
      "execution_count": 25,
      "outputs": [
        {
          "output_type": "execute_result",
          "data": {
            "text/plain": [
              "['', 'समझना', 'मायनस', 'मनदपरहार', 'खरिदआदश', 'सउदी', 'बताइन', 'तीन-चौथाइ']"
            ]
          },
          "metadata": {
            "tags": []
          },
          "execution_count": 25
        }
      ]
    },
    {
      "cell_type": "code",
      "metadata": {
        "id": "cjDntNkoIP64",
        "colab_type": "code",
        "colab": {}
      },
      "source": [
        "word_dict_len = len(word_dictionary)"
      ],
      "execution_count": 0,
      "outputs": []
    },
    {
      "cell_type": "code",
      "metadata": {
        "id": "ykW3lwioIf1w",
        "colab_type": "code",
        "outputId": "eb704073-642e-4149-c4f3-1dbfcb21a1c0",
        "colab": {
          "base_uri": "https://localhost:8080/",
          "height": 34
        }
      },
      "source": [
        "word_dict_len"
      ],
      "execution_count": 27,
      "outputs": [
        {
          "output_type": "execute_result",
          "data": {
            "text/plain": [
              "11915"
            ]
          },
          "metadata": {
            "tags": []
          },
          "execution_count": 27
        }
      ]
    },
    {
      "cell_type": "code",
      "metadata": {
        "id": "ZiWz9inw3DDg",
        "colab_type": "code",
        "colab": {}
      },
      "source": [
        "tag_dictionary = list(set(sum(data_df['tag'].tolist(),[])))"
      ],
      "execution_count": 0,
      "outputs": []
    },
    {
      "cell_type": "code",
      "metadata": {
        "id": "408KknB53DDk",
        "colab_type": "code",
        "outputId": "44eedf50-1d1c-4696-cd45-e43613ac3d0c",
        "colab": {
          "base_uri": "https://localhost:8080/",
          "height": 34
        }
      },
      "source": [
        "tag_dictionary[:8]"
      ],
      "execution_count": 29,
      "outputs": [
        {
          "output_type": "execute_result",
          "data": {
            "text/plain": [
              "['<VBX>', '<PAD>', '<CC>', '<YQ>', '<NNP>', '<PP>', '<CL>', '<YF>']"
            ]
          },
          "metadata": {
            "tags": []
          },
          "execution_count": 29
        }
      ]
    },
    {
      "cell_type": "code",
      "metadata": {
        "id": "kHd8KQrEIlvv",
        "colab_type": "code",
        "colab": {}
      },
      "source": [
        "tag_dict_len = len(tag_dictionary)"
      ],
      "execution_count": 0,
      "outputs": []
    },
    {
      "cell_type": "code",
      "metadata": {
        "id": "-t8cw44j3DDq",
        "colab_type": "code",
        "colab": {}
      },
      "source": [
        "int2word = dict(enumerate(word_dictionary))"
      ],
      "execution_count": 0,
      "outputs": []
    },
    {
      "cell_type": "code",
      "metadata": {
        "id": "SBXHvFIo3DDt",
        "colab_type": "code",
        "colab": {}
      },
      "source": [
        "word2int = {int2word[idx]:idx for idx in int2word.keys() }"
      ],
      "execution_count": 0,
      "outputs": []
    },
    {
      "cell_type": "code",
      "metadata": {
        "id": "KA4f47Vc3DDx",
        "colab_type": "code",
        "colab": {}
      },
      "source": [
        "int2tag = dict(enumerate(tag_dictionary))"
      ],
      "execution_count": 0,
      "outputs": []
    },
    {
      "cell_type": "code",
      "metadata": {
        "id": "J-Uma0jg3DD1",
        "colab_type": "code",
        "colab": {}
      },
      "source": [
        "tag2int = {int2tag[idx]:idx for idx in int2tag.keys()}"
      ],
      "execution_count": 0,
      "outputs": []
    },
    {
      "cell_type": "code",
      "metadata": {
        "id": "7iHa8ku1ujHD",
        "colab_type": "code",
        "colab": {}
      },
      "source": [
        "total_length = data_df.shape[0]"
      ],
      "execution_count": 0,
      "outputs": []
    },
    {
      "cell_type": "markdown",
      "metadata": {
        "id": "0BaSOwF73DD9",
        "colab_type": "text"
      },
      "source": [
        "# Convert Dataset into numerical vector"
      ]
    },
    {
      "cell_type": "code",
      "metadata": {
        "id": "dnPSfl90Eqcv",
        "colab_type": "code",
        "outputId": "3b599793-d713-42cb-8d10-53b66d8971d0",
        "colab": {
          "base_uri": "https://localhost:8080/",
          "height": 204
        }
      },
      "source": [
        "data_df.head()"
      ],
      "execution_count": 36,
      "outputs": [
        {
          "output_type": "execute_result",
          "data": {
            "text/html": [
              "<div>\n",
              "<style scoped>\n",
              "    .dataframe tbody tr th:only-of-type {\n",
              "        vertical-align: middle;\n",
              "    }\n",
              "\n",
              "    .dataframe tbody tr th {\n",
              "        vertical-align: top;\n",
              "    }\n",
              "\n",
              "    .dataframe thead th {\n",
              "        text-align: right;\n",
              "    }\n",
              "</style>\n",
              "<table border=\"1\" class=\"dataframe\">\n",
              "  <thead>\n",
              "    <tr style=\"text-align: right;\">\n",
              "      <th></th>\n",
              "      <th>ascii_text</th>\n",
              "      <th>tag</th>\n",
              "    </tr>\n",
              "  </thead>\n",
              "  <tbody>\n",
              "    <tr>\n",
              "      <th>0</th>\n",
              "      <td>[६१, वरषीय, पियर, भिनकन, नोभमबर, २९, बाट, सलला...</td>\n",
              "      <td>[&lt;CD&gt;, &lt;JJ&gt;, &lt;NNP&gt;, &lt;NNP&gt;, &lt;NNP&gt;, &lt;CD&gt;, &lt;POP&gt;,...</td>\n",
              "    </tr>\n",
              "    <tr>\n",
              "      <th>1</th>\n",
              "      <td>[शरी, भिनकन, डच, परकाशन, समह, एलसभियर, एन.भी.,...</td>\n",
              "      <td>[&lt;NN&gt;, &lt;NNP&gt;, &lt;NNP&gt;, &lt;NN&gt;, &lt;NN&gt;, &lt;NNP&gt;, &lt;FB&gt;, ...</td>\n",
              "    </tr>\n",
              "    <tr>\n",
              "      <th>2</th>\n",
              "      <td>[कनसोलिडटिड, गोलड, फिलडस, पीएलसी, का, परव, सभा...</td>\n",
              "      <td>[&lt;NNP&gt;, &lt;NN&gt;, &lt;NN&gt;, &lt;NNP&gt;, &lt;PKO&gt;, &lt;JJ&gt;, &lt;NN&gt;, ...</td>\n",
              "    </tr>\n",
              "    <tr>\n",
              "      <th>3</th>\n",
              "      <td>[एकताका, कनट, चरोट, को, फिलटर, बनाउन, परयोग, भ...</td>\n",
              "      <td>[&lt;RBO&gt;, &lt;NNP&gt;, &lt;NN&gt;, &lt;PKO&gt;, &lt;NN&gt;, &lt;VBI&gt;, &lt;NN&gt;,...</td>\n",
              "    </tr>\n",
              "    <tr>\n",
              "      <th>4</th>\n",
              "      <td>[यस, सग, को, छोटो, समपरक, बाट, मातर, पनि, दशकौ...</td>\n",
              "      <td>[&lt;DUM&gt;, &lt;POP&gt;, &lt;PKO&gt;, &lt;JJM&gt;, &lt;NN&gt;, &lt;POP&gt;, &lt;RP&gt;...</td>\n",
              "    </tr>\n",
              "  </tbody>\n",
              "</table>\n",
              "</div>"
            ],
            "text/plain": [
              "                                          ascii_text                                                tag\n",
              "0  [६१, वरषीय, पियर, भिनकन, नोभमबर, २९, बाट, सलला...  [<CD>, <JJ>, <NNP>, <NNP>, <NNP>, <CD>, <POP>,...\n",
              "1  [शरी, भिनकन, डच, परकाशन, समह, एलसभियर, एन.भी.,...  [<NN>, <NNP>, <NNP>, <NN>, <NN>, <NNP>, <FB>, ...\n",
              "2  [कनसोलिडटिड, गोलड, फिलडस, पीएलसी, का, परव, सभा...  [<NNP>, <NN>, <NN>, <NNP>, <PKO>, <JJ>, <NN>, ...\n",
              "3  [एकताका, कनट, चरोट, को, फिलटर, बनाउन, परयोग, भ...  [<RBO>, <NNP>, <NN>, <PKO>, <NN>, <VBI>, <NN>,...\n",
              "4  [यस, सग, को, छोटो, समपरक, बाट, मातर, पनि, दशकौ...  [<DUM>, <POP>, <PKO>, <JJM>, <NN>, <POP>, <RP>..."
            ]
          },
          "metadata": {
            "tags": []
          },
          "execution_count": 36
        }
      ]
    },
    {
      "cell_type": "code",
      "metadata": {
        "id": "D_Em1Nq-H6nQ",
        "colab_type": "code",
        "colab": {}
      },
      "source": [
        "feature = data_df['ascii_text'].tolist()"
      ],
      "execution_count": 0,
      "outputs": []
    },
    {
      "cell_type": "code",
      "metadata": {
        "id": "MD9xiRswH-au",
        "colab_type": "code",
        "colab": {}
      },
      "source": [
        "label = data_df['tag'].tolist()"
      ],
      "execution_count": 0,
      "outputs": []
    },
    {
      "cell_type": "code",
      "metadata": {
        "id": "0-yZAwOJtu9H",
        "colab_type": "code",
        "colab": {}
      },
      "source": [
        "x=[]\n",
        "y=[]\n",
        "for idx in range(data_df.shape[0]):\n",
        "  x.append([word2int[word] for word in feature[idx]])\n",
        "  y.append([tag2int[tag] for tag in label[idx]])  "
      ],
      "execution_count": 0,
      "outputs": []
    },
    {
      "cell_type": "code",
      "metadata": {
        "id": "UnTNbtpf4uqq",
        "colab_type": "code",
        "colab": {}
      },
      "source": [
        "from torch.utils.data import DataLoader, TensorDataset"
      ],
      "execution_count": 0,
      "outputs": []
    },
    {
      "cell_type": "code",
      "metadata": {
        "id": "fCNLongOJUir",
        "colab_type": "code",
        "colab": {}
      },
      "source": [
        "import numpy as np"
      ],
      "execution_count": 0,
      "outputs": []
    },
    {
      "cell_type": "code",
      "metadata": {
        "id": "VxBl6OO4Ikyc",
        "colab_type": "code",
        "colab": {}
      },
      "source": [
        "x = torch.from_numpy(np.array(x))"
      ],
      "execution_count": 0,
      "outputs": []
    },
    {
      "cell_type": "code",
      "metadata": {
        "id": "mqMDwEHXJY6C",
        "colab_type": "code",
        "colab": {}
      },
      "source": [
        "y = torch.from_numpy(np.array(y))"
      ],
      "execution_count": 0,
      "outputs": []
    },
    {
      "cell_type": "code",
      "metadata": {
        "id": "Tg05fb1tJd4r",
        "colab_type": "code",
        "colab": {}
      },
      "source": [
        "dataset = TensorDataset(x,y)"
      ],
      "execution_count": 0,
      "outputs": []
    },
    {
      "cell_type": "code",
      "metadata": {
        "id": "XrGVk1lQaBUQ",
        "colab_type": "code",
        "colab": {}
      },
      "source": [
        "BATCH_SIZE = 64"
      ],
      "execution_count": 0,
      "outputs": []
    },
    {
      "cell_type": "code",
      "metadata": {
        "id": "AhYsi9CsZvXF",
        "colab_type": "code",
        "colab": {}
      },
      "source": [
        "dataset_dl = DataLoader(dataset,batch_size=BATCH_SIZE, shuffle=True)"
      ],
      "execution_count": 0,
      "outputs": []
    },
    {
      "cell_type": "code",
      "metadata": {
        "id": "7_ithQhfJi1r",
        "colab_type": "code",
        "colab": {}
      },
      "source": [
        "class POSTag(nn.Module):\n",
        "\n",
        "  def __init__(self,vocab_size, embed_dim, hidden_dim, num_layer, output_dim, dropout, bidirectional):\n",
        "    super().__init__()\n",
        "    self.embedding = nn.Embedding(num_embeddings=vocab_size, embedding_dim=embed_dim)\n",
        "    self.lstm = nn.LSTM(input_size=embed_dim, hidden_size=hidden_dim, num_layers=num_layer, batch_first=True, bidirectional=bidirectional)\n",
        "    if bidirectional:\n",
        "      self.fc = nn.Linear(hidden_dim * 2, output_dim)\n",
        "    else:\n",
        "      self.fc = nn.Linear(hidden_dim, output_dim)\n",
        "    self.dropout = nn.Dropout(dropout)\n",
        "\n",
        "  \n",
        "  def forward_propagation(self, text):\n",
        "    embedded = self.embedding(text)\n",
        "    output, (hidden,cell) = self.lstm(embedded)\n",
        "    output_with_dropout = self.dropout(output)\n",
        "    result = self.fc(output_with_dropout)\n",
        "    return result"
      ],
      "execution_count": 0,
      "outputs": []
    },
    {
      "cell_type": "code",
      "metadata": {
        "id": "AX8drIbeqHhY",
        "colab_type": "code",
        "colab": {}
      },
      "source": [
        "EMBED_DIM = 150\n",
        "HIDDEN_DIM = 100\n",
        "NUM_LAYER = 1\n",
        "DROP_OUT = 0.2"
      ],
      "execution_count": 0,
      "outputs": []
    },
    {
      "cell_type": "code",
      "metadata": {
        "id": "PgnKWPKXR8-V",
        "colab_type": "code",
        "colab": {}
      },
      "source": [
        "model = POSTag(vocab_size=word_dict_len,\n",
        "               embed_dim=EMBED_DIM,\n",
        "               hidden_dim=HIDDEN_DIM,\n",
        "               num_layer=NUM_LAYER,\n",
        "               output_dim =tag_dict_len,\n",
        "               dropout=DROP_OUT,\n",
        "               bidirectional=True)"
      ],
      "execution_count": 0,
      "outputs": []
    },
    {
      "cell_type": "code",
      "metadata": {
        "id": "YOC4LTPIS4nA",
        "colab_type": "code",
        "outputId": "c117b7c7-f243-4b34-a779-124f3ab9d676",
        "colab": {
          "base_uri": "https://localhost:8080/",
          "height": 119
        }
      },
      "source": [
        "model"
      ],
      "execution_count": 50,
      "outputs": [
        {
          "output_type": "execute_result",
          "data": {
            "text/plain": [
              "POSTag(\n",
              "  (embedding): Embedding(11915, 150)\n",
              "  (lstm): LSTM(150, 100, batch_first=True, bidirectional=True)\n",
              "  (fc): Linear(in_features=200, out_features=40, bias=True)\n",
              "  (dropout): Dropout(p=0.2, inplace=False)\n",
              ")"
            ]
          },
          "metadata": {
            "tags": []
          },
          "execution_count": 50
        }
      ]
    },
    {
      "cell_type": "code",
      "metadata": {
        "id": "89s8a8eHsFSo",
        "colab_type": "code",
        "colab": {}
      },
      "source": [
        "def init_weights(m):\n",
        "    for name, param in m.named_parameters():\n",
        "        nn.init.normal_(param.data, mean=0, std=0.1)"
      ],
      "execution_count": 0,
      "outputs": []
    },
    {
      "cell_type": "code",
      "metadata": {
        "id": "T4dMCws5sJYw",
        "colab_type": "code",
        "outputId": "d0b76b6b-b1cc-4ed4-db00-13eb88166aa8",
        "colab": {
          "base_uri": "https://localhost:8080/",
          "height": 119
        }
      },
      "source": [
        "model.apply(init_weights)"
      ],
      "execution_count": 52,
      "outputs": [
        {
          "output_type": "execute_result",
          "data": {
            "text/plain": [
              "POSTag(\n",
              "  (embedding): Embedding(11915, 150)\n",
              "  (lstm): LSTM(150, 100, batch_first=True, bidirectional=True)\n",
              "  (fc): Linear(in_features=200, out_features=40, bias=True)\n",
              "  (dropout): Dropout(p=0.2, inplace=False)\n",
              ")"
            ]
          },
          "metadata": {
            "tags": []
          },
          "execution_count": 52
        }
      ]
    },
    {
      "cell_type": "code",
      "metadata": {
        "id": "NMecqG5JsMtH",
        "colab_type": "code",
        "colab": {}
      },
      "source": [
        "def count_parameters(model):\n",
        "    return sum(p.numel() for p in model.parameters() if p.requires_grad)"
      ],
      "execution_count": 0,
      "outputs": []
    },
    {
      "cell_type": "code",
      "metadata": {
        "id": "QsmgveBgsS_F",
        "colab_type": "code",
        "outputId": "109ae918-5ffb-46d1-a326-d54144ecf709",
        "colab": {
          "base_uri": "https://localhost:8080/",
          "height": 34
        }
      },
      "source": [
        "print(f'The model has {count_parameters(model):,} trainable parameters')"
      ],
      "execution_count": 54,
      "outputs": [
        {
          "output_type": "stream",
          "text": [
            "The model has 1,996,890 trainable parameters\n"
          ],
          "name": "stdout"
        }
      ]
    },
    {
      "cell_type": "markdown",
      "metadata": {
        "id": "32-tbnn0sVHy",
        "colab_type": "text"
      },
      "source": [
        "# Loss Function and Optimization"
      ]
    },
    {
      "cell_type": "code",
      "metadata": {
        "id": "pv0Uemvhsi5Z",
        "colab_type": "code",
        "colab": {}
      },
      "source": [
        "optimizer = optim.Adam(model.parameters())"
      ],
      "execution_count": 0,
      "outputs": []
    },
    {
      "cell_type": "code",
      "metadata": {
        "id": "_M8v0H4Ysliy",
        "colab_type": "code",
        "colab": {}
      },
      "source": [
        "criterion = nn.CrossEntropyLoss()"
      ],
      "execution_count": 0,
      "outputs": []
    },
    {
      "cell_type": "code",
      "metadata": {
        "id": "zGo1WsX1t_cY",
        "colab_type": "code",
        "colab": {}
      },
      "source": [
        "is_cuda = torch.cuda.is_available()"
      ],
      "execution_count": 0,
      "outputs": []
    },
    {
      "cell_type": "code",
      "metadata": {
        "id": "W69QQkFnsxim",
        "colab_type": "code",
        "outputId": "7787b05d-e812-4264-b95d-8178312f412e",
        "colab": {
          "base_uri": "https://localhost:8080/",
          "height": 34
        }
      },
      "source": [
        "if is_cuda:\n",
        "    device = torch.device(\"cuda\")\n",
        "    print(\"GPU is available\")\n",
        "else:\n",
        "    device = torch.device(\"cpu\")\n",
        "    print(\"GPU not available, CPU used\")"
      ],
      "execution_count": 58,
      "outputs": [
        {
          "output_type": "stream",
          "text": [
            "GPU is available\n"
          ],
          "name": "stdout"
        }
      ]
    },
    {
      "cell_type": "code",
      "metadata": {
        "id": "iQf5HRJosrU1",
        "colab_type": "code",
        "colab": {}
      },
      "source": [
        "model = model.to(device)\n",
        "criterion = criterion.to(device)"
      ],
      "execution_count": 0,
      "outputs": []
    },
    {
      "cell_type": "code",
      "metadata": {
        "id": "-kqZDpVCuQBV",
        "colab_type": "code",
        "colab": {}
      },
      "source": [
        "def train_model(ml_model,dataset_iterator,optimizer,criterion, device):\n",
        "  epoch_loss = 0\n",
        "  ml_model.train()\n",
        "  for data_batch in dataset_dl:\n",
        "    feature = data_batch[0]\n",
        "    feature = feature.to(device)\n",
        "    label = data_batch[1]\n",
        "    label = label.to(device)\n",
        "    optimizer.zero_grad()\n",
        "    prediction = ml_model.forward_propagation(feature)\n",
        "    prediction = prediction.view(-1, prediction.shape[-1])\n",
        "    label = label.view(-1)\n",
        "    loss = criterion(prediction,label)\n",
        "    loss.backward()\n",
        "    optimizer.step()\n",
        "    epoch_loss+=loss.item()\n",
        "  dataset_len = len(dataset_dl)\n",
        "  return epoch_loss/dataset_len"
      ],
      "execution_count": 0,
      "outputs": []
    },
    {
      "cell_type": "code",
      "metadata": {
        "id": "xEeZ0Vl2fZxj",
        "colab_type": "code",
        "colab": {}
      },
      "source": [
        "def epoch_time(start_time, end_time):\n",
        "    elapsed_time = end_time - start_time\n",
        "    elapsed_mins = int(elapsed_time / 60)\n",
        "    elapsed_secs = int(elapsed_time - (elapsed_mins * 60))\n",
        "    return elapsed_mins, elapsed_secs"
      ],
      "execution_count": 0,
      "outputs": []
    },
    {
      "cell_type": "code",
      "metadata": {
        "id": "wmLQqS_xst7h",
        "colab_type": "code",
        "colab": {}
      },
      "source": [
        "N_EPOCHS = 5"
      ],
      "execution_count": 0,
      "outputs": []
    },
    {
      "cell_type": "code",
      "metadata": {
        "id": "e-QvrMFAf6Te",
        "colab_type": "code",
        "colab": {}
      },
      "source": [
        "import time"
      ],
      "execution_count": 0,
      "outputs": []
    },
    {
      "cell_type": "code",
      "metadata": {
        "id": "PYZguP-Efnwj",
        "colab_type": "code",
        "outputId": "1ba2bdff-a20e-4f8c-b776-e777f634aef0",
        "colab": {
          "base_uri": "https://localhost:8080/",
          "height": 187
        }
      },
      "source": [
        "for epoch in range(N_EPOCHS):\n",
        "\n",
        "    start_time = time.time()\n",
        "    loss = train_model(ml_model=model, dataset_iterator= dataset,optimizer=optimizer,criterion=criterion, device=device)\n",
        "    end_time = time.time()\n",
        "    minute,second = epoch_time(start_time, end_time)\n",
        "    print(\"Time Tatken to run one epoch {} minute and {}second\".format(minute, second))\n",
        "    print(\"Loss Calucated in Epoch {} : {}\".format(epoch+1,round(loss,2)))"
      ],
      "execution_count": 64,
      "outputs": [
        {
          "output_type": "stream",
          "text": [
            "Time Tatken to run one epoch 0 minute and 1second\n",
            "Loss Calucated in Epoch 1 : 1.17\n",
            "Time Tatken to run one epoch 0 minute and 1second\n",
            "Loss Calucated in Epoch 2 : 0.61\n",
            "Time Tatken to run one epoch 0 minute and 1second\n",
            "Loss Calucated in Epoch 3 : 0.3\n",
            "Time Tatken to run one epoch 0 minute and 1second\n",
            "Loss Calucated in Epoch 4 : 0.13\n",
            "Time Tatken to run one epoch 0 minute and 1second\n",
            "Loss Calucated in Epoch 5 : 0.07\n"
          ],
          "name": "stdout"
        }
      ]
    },
    {
      "cell_type": "code",
      "metadata": {
        "id": "vdWZ_ywajd9O",
        "colab_type": "code",
        "outputId": "531e9564-70ab-4408-b04b-cd16ca859e38",
        "colab": {
          "base_uri": "https://localhost:8080/",
          "height": 119
        }
      },
      "source": [
        "model.eval()"
      ],
      "execution_count": 65,
      "outputs": [
        {
          "output_type": "execute_result",
          "data": {
            "text/plain": [
              "POSTag(\n",
              "  (embedding): Embedding(11915, 150)\n",
              "  (lstm): LSTM(150, 100, batch_first=True, bidirectional=True)\n",
              "  (fc): Linear(in_features=200, out_features=40, bias=True)\n",
              "  (dropout): Dropout(p=0.2, inplace=False)\n",
              ")"
            ]
          },
          "metadata": {
            "tags": []
          },
          "execution_count": 65
        }
      ]
    },
    {
      "cell_type": "code",
      "metadata": {
        "id": "6nQj970BkEiw",
        "colab_type": "code",
        "colab": {}
      },
      "source": [
        "test_feature = data_df['ascii_text'][100]"
      ],
      "execution_count": 0,
      "outputs": []
    },
    {
      "cell_type": "code",
      "metadata": {
        "id": "q3jIyG8Uw0Mb",
        "colab_type": "code",
        "colab": {}
      },
      "source": [
        "test_label = data_df['tag'][100]"
      ],
      "execution_count": 0,
      "outputs": []
    },
    {
      "cell_type": "code",
      "metadata": {
        "id": "kYNJrRs-Y73S",
        "colab_type": "code",
        "colab": {}
      },
      "source": [
        "test_feature_num = [word2int[item] for item in test_feature]"
      ],
      "execution_count": 0,
      "outputs": []
    },
    {
      "cell_type": "code",
      "metadata": {
        "id": "lwWSxWiwZWfL",
        "colab_type": "code",
        "colab": {}
      },
      "source": [
        "test_feature_num = torch.tensor(test_feature_num).view(1,-1)"
      ],
      "execution_count": 0,
      "outputs": []
    },
    {
      "cell_type": "code",
      "metadata": {
        "id": "EtIo6UpSj6ro",
        "colab_type": "code",
        "outputId": "3ea17d6f-a4eb-43d8-c661-4646d0df599c",
        "colab": {
          "base_uri": "https://localhost:8080/",
          "height": 119
        }
      },
      "source": [
        "model.eval()"
      ],
      "execution_count": 70,
      "outputs": [
        {
          "output_type": "execute_result",
          "data": {
            "text/plain": [
              "POSTag(\n",
              "  (embedding): Embedding(11915, 150)\n",
              "  (lstm): LSTM(150, 100, batch_first=True, bidirectional=True)\n",
              "  (fc): Linear(in_features=200, out_features=40, bias=True)\n",
              "  (dropout): Dropout(p=0.2, inplace=False)\n",
              ")"
            ]
          },
          "metadata": {
            "tags": []
          },
          "execution_count": 70
        }
      ]
    },
    {
      "cell_type": "code",
      "metadata": {
        "id": "N9kwvdzKjCLt",
        "colab_type": "code",
        "colab": {}
      },
      "source": [
        "with torch.no_grad():\n",
        "  prediction = model.forward_propagation(test_feature_num.to(device))"
      ],
      "execution_count": 0,
      "outputs": []
    },
    {
      "cell_type": "code",
      "metadata": {
        "id": "7TMsXhbvbZ6n",
        "colab_type": "code",
        "colab": {}
      },
      "source": [
        "pred_numeric_label=[]\n",
        "for vector in prediction[0]:\n",
        "  pred_numeric_label.append(torch.argmax(vector).item())"
      ],
      "execution_count": 0,
      "outputs": []
    },
    {
      "cell_type": "code",
      "metadata": {
        "id": "wJdiisHtcnw7",
        "colab_type": "code",
        "colab": {}
      },
      "source": [
        "predicted_result = [int2tag[item] for item in pred_numeric_label]"
      ],
      "execution_count": 0,
      "outputs": []
    },
    {
      "cell_type": "code",
      "metadata": {
        "id": "hU9fjjXtcy8E",
        "colab_type": "code",
        "outputId": "9aa2a166-c61c-481d-9bcb-56042d06c614",
        "colab": {
          "base_uri": "https://localhost:8080/",
          "height": 1000
        }
      },
      "source": [
        "for idx in range(len(predicted_result)):\n",
        "  print(test_label[idx],predicted_result[idx])"
      ],
      "execution_count": 74,
      "outputs": [
        {
          "output_type": "stream",
          "text": [
            "<NN> <NN>\n",
            "<HRU> <HRU>\n",
            "<PLAI> <PLAI>\n",
            "<NN> <NN>\n",
            "<NN> <NN>\n",
            "<JJ> <JJ>\n",
            "<VBI> <VBNE>\n",
            "<CC> <CC>\n",
            "<NN> <NN>\n",
            "<VBI> <VBNE>\n",
            "<PKO> <PKO>\n",
            "<POP> <POP>\n",
            "<NN> <NN>\n",
            "<VBNE> <VBNE>\n",
            "<NN> <NN>\n",
            "<JJ> <JJ>\n",
            "<NN> <NN>\n",
            "<HRU> <HRU>\n",
            "<POP> <POP>\n",
            "<JJ> <JJ>\n",
            "<NN> <NN>\n",
            "<VBKO> <VBKO>\n",
            "<VBX> <VBX>\n",
            "<CC> <CC>\n",
            "<DUM> <DUM>\n",
            "<PLE> <PLE>\n",
            "<YM> <JJ>\n",
            "<NNP> <NNP>\n",
            "<NNP> <NNP>\n",
            "<NN> <NN>\n",
            "<PKO> <PKO>\n",
            "<NNP> <NN>\n",
            "<NNP> <NN>\n",
            "<CC> <CC>\n",
            "<NNP> <NNP>\n",
            "<FB> <NNP>\n",
            "<NNP> <NNP>\n",
            "<PKO> <PKO>\n",
            "<FB> <RBO>\n",
            "<NN> <NN>\n",
            "<CC> <CC>\n",
            "<NN> <NNP>\n",
            "<NN> <NN>\n",
            "<POP> <POP>\n",
            "<PKO> <PKO>\n",
            "<JJ> <JJ>\n",
            "<NN> <NN>\n",
            "<PLAI> <PLAI>\n",
            "<JJ> <JJ>\n",
            "<VBKO> <VBKO>\n",
            "<VBF> <VBF>\n",
            "<YF> <YF>\n",
            "<PAD> <PAD>\n",
            "<PAD> <PAD>\n",
            "<PAD> <PAD>\n",
            "<PAD> <PAD>\n",
            "<PAD> <PAD>\n",
            "<PAD> <PAD>\n",
            "<PAD> <PAD>\n",
            "<PAD> <PAD>\n",
            "<PAD> <PAD>\n",
            "<PAD> <PAD>\n",
            "<PAD> <PAD>\n",
            "<PAD> <PAD>\n",
            "<PAD> <PAD>\n",
            "<PAD> <PAD>\n",
            "<PAD> <PAD>\n",
            "<PAD> <PAD>\n",
            "<PAD> <PAD>\n",
            "<PAD> <PAD>\n",
            "<PAD> <PAD>\n",
            "<PAD> <PAD>\n",
            "<PAD> <PAD>\n",
            "<PAD> <PAD>\n",
            "<PAD> <PAD>\n",
            "<PAD> <PAD>\n",
            "<PAD> <PAD>\n",
            "<PAD> <PAD>\n",
            "<PAD> <PAD>\n",
            "<PAD> <PAD>\n",
            "<PAD> <PAD>\n",
            "<PAD> <PAD>\n",
            "<PAD> <PAD>\n",
            "<PAD> <PAD>\n",
            "<PAD> <PAD>\n",
            "<PAD> <PAD>\n",
            "<PAD> <PAD>\n",
            "<PAD> <PAD>\n",
            "<PAD> <PAD>\n",
            "<PAD> <PAD>\n",
            "<PAD> <PAD>\n"
          ],
          "name": "stdout"
        }
      ]
    },
    {
      "cell_type": "code",
      "metadata": {
        "id": "6IVUtBQy_CNG",
        "colab_type": "code",
        "colab": {}
      },
      "source": [
        "test_data = 'मेरो नाम रडोलफ हो ।'"
      ],
      "execution_count": 0,
      "outputs": []
    },
    {
      "cell_type": "code",
      "metadata": {
        "id": "_IrJ-t11_ufM",
        "colab_type": "code",
        "colab": {}
      },
      "source": [
        "test_data = unicode_to_ascii(test_data)"
      ],
      "execution_count": 0,
      "outputs": []
    },
    {
      "cell_type": "code",
      "metadata": {
        "id": "c0Crl7VDDAFk",
        "colab_type": "code",
        "outputId": "0f3c7c0e-0d76-4148-f660-1030b2a76e10",
        "colab": {
          "base_uri": "https://localhost:8080/",
          "height": 34
        }
      },
      "source": [
        "test_data"
      ],
      "execution_count": 77,
      "outputs": [
        {
          "output_type": "execute_result",
          "data": {
            "text/plain": [
              "'मरो नाम रडोलफ हो ।'"
            ]
          },
          "metadata": {
            "tags": []
          },
          "execution_count": 77
        }
      ]
    },
    {
      "cell_type": "code",
      "metadata": {
        "id": "odYaRfaIAhcd",
        "colab_type": "code",
        "colab": {}
      },
      "source": [
        "test_data = test_data.split(\" \")"
      ],
      "execution_count": 0,
      "outputs": []
    },
    {
      "cell_type": "code",
      "metadata": {
        "id": "_r6SoBgOBpJQ",
        "colab_type": "code",
        "outputId": "f233cb7b-745e-4055-9a75-61a2282f070d",
        "colab": {
          "base_uri": "https://localhost:8080/",
          "height": 34
        }
      },
      "source": [
        "test_data"
      ],
      "execution_count": 79,
      "outputs": [
        {
          "output_type": "execute_result",
          "data": {
            "text/plain": [
              "['मरो', 'नाम', 'रडोलफ', 'हो', '।']"
            ]
          },
          "metadata": {
            "tags": []
          },
          "execution_count": 79
        }
      ]
    },
    {
      "cell_type": "code",
      "metadata": {
        "id": "k9S8AZ7u_IGX",
        "colab_type": "code",
        "colab": {}
      },
      "source": [
        "test_data = padding_sequence(test_data)"
      ],
      "execution_count": 0,
      "outputs": []
    },
    {
      "cell_type": "code",
      "metadata": {
        "id": "ncL3lyaLEKUR",
        "colab_type": "code",
        "colab": {}
      },
      "source": [
        "test_data_num = [word2int[item] for item in test_data]"
      ],
      "execution_count": 0,
      "outputs": []
    },
    {
      "cell_type": "code",
      "metadata": {
        "id": "bVe7did7C2mK",
        "colab_type": "code",
        "colab": {}
      },
      "source": [
        "test_data_num = torch.tensor(test_data_num).view(1,-1)"
      ],
      "execution_count": 0,
      "outputs": []
    },
    {
      "cell_type": "code",
      "metadata": {
        "id": "_asfA3KIEevf",
        "colab_type": "code",
        "outputId": "c7000216-a887-426b-8bca-b895971a273e",
        "colab": {
          "base_uri": "https://localhost:8080/",
          "height": 119
        }
      },
      "source": [
        "model.eval()"
      ],
      "execution_count": 83,
      "outputs": [
        {
          "output_type": "execute_result",
          "data": {
            "text/plain": [
              "POSTag(\n",
              "  (embedding): Embedding(11915, 150)\n",
              "  (lstm): LSTM(150, 100, batch_first=True, bidirectional=True)\n",
              "  (fc): Linear(in_features=200, out_features=40, bias=True)\n",
              "  (dropout): Dropout(p=0.2, inplace=False)\n",
              ")"
            ]
          },
          "metadata": {
            "tags": []
          },
          "execution_count": 83
        }
      ]
    },
    {
      "cell_type": "code",
      "metadata": {
        "id": "ZsOa5JxCEieH",
        "colab_type": "code",
        "colab": {}
      },
      "source": [
        "with torch.no_grad():\n",
        "  prediction1 = model.forward_propagation(test_data_num.to(device))"
      ],
      "execution_count": 0,
      "outputs": []
    },
    {
      "cell_type": "code",
      "metadata": {
        "id": "LZdjEO8jEvbE",
        "colab_type": "code",
        "colab": {}
      },
      "source": [
        "pred_numeric_label=[]\n",
        "for vector in prediction1[0]:\n",
        "  pred_numeric_label.append(torch.argmax(vector).item())"
      ],
      "execution_count": 0,
      "outputs": []
    },
    {
      "cell_type": "code",
      "metadata": {
        "id": "hIFwR4BEE0NM",
        "colab_type": "code",
        "colab": {}
      },
      "source": [
        "predicted_result = [int2tag[item] for item in pred_numeric_label]"
      ],
      "execution_count": 0,
      "outputs": []
    },
    {
      "cell_type": "code",
      "metadata": {
        "id": "JNqNdAApH86d",
        "colab_type": "code",
        "outputId": "e490ac93-ca60-496b-9ab7-a39cc0b3be2f",
        "colab": {
          "base_uri": "https://localhost:8080/",
          "height": 102
        }
      },
      "source": [
        "for item in test_data:\n",
        "  if item!= '<PAD>':\n",
        "    print(item)"
      ],
      "execution_count": 87,
      "outputs": [
        {
          "output_type": "stream",
          "text": [
            "मरो\n",
            "नाम\n",
            "रडोलफ\n",
            "हो\n",
            "।\n"
          ],
          "name": "stdout"
        }
      ]
    },
    {
      "cell_type": "code",
      "metadata": {
        "id": "kkYaKdbfE7BB",
        "colab_type": "code",
        "outputId": "50a712e7-d289-4a14-cebb-42d0854bc160",
        "colab": {
          "base_uri": "https://localhost:8080/",
          "height": 102
        }
      },
      "source": [
        "for item in predicted_result:\n",
        "  if item!= '<PAD>':\n",
        "    print(item)"
      ],
      "execution_count": 88,
      "outputs": [
        {
          "output_type": "stream",
          "text": [
            "<NNP>\n",
            "<NN>\n",
            "<NNP>\n",
            "<VBX>\n",
            "<YF>\n"
          ],
          "name": "stdout"
        }
      ]
    }
  ]
}